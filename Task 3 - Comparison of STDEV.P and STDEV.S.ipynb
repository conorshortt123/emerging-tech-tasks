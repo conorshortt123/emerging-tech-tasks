{
 "cells": [
  {
   "cell_type": "markdown",
   "metadata": {},
   "source": [
    "# TASK 3 - RESEARCH OF STANDARD DEVIATION FUNCTIONS\n",
    "\n",
    "### Brief:\n",
    "*The standard deviation of an array of numbers x is\n",
    "calculated using numpy as **np.sqrt(np.sum((x - np.mean(x))^2)/len(x))** .\n",
    "However, Microsoft Excel has **two different versions** of the standard deviation\n",
    "calculation, **STDEV.P and STDEV.S** . The STDEV.P function performs the above\n",
    "calculation but in the STDEV.S calculation **the division is by len(x)-1** rather\n",
    "than **len(x)**. Research these Excel functions, writing a note in a Markdown cell\n",
    "about the difference between them. Then use numpy to perform a simulation\n",
    "demonstrating that the STDEV.S calculation is a better estimate for the standard\n",
    "deviation of a population when performed on a sample. Note that part of this task\n",
    "is to figure out the terminology in the previous sentence.*\n",
    "\n",
    "## Differences between STDEV.P & STDEV.S\n",
    "\n",
    "### STDEV.P:\n",
    "STDEV.P is an excel function used when calculating the standard deviation of an entire population. A population data set contains all members of a specified group, this is the entire list of possible data values. Uses the count of **n** in formulae.\n",
    "\n",
    "For example, the population may be \"ALL people living in the US.\"\n",
    "\n",
    "### STDEV.S:\n",
    "STDEV.S is an excel function used when calculating a sample of a data set. A sample data set contains a part, or a subset, of a population. The size of a sample is always less than the size of the population from which it is taken. This utilizes the count of **n-1** in formulae\n",
    "\n",
    "Example: The sample may be \"SOME people living in the US.\"\n",
    "\n",
    "### Differences:\n",
    "The only difference between the formulae is that for the sample standard deviation you divide by n-1, n is subtracted by 1 to get an unbiased sample deviation. Subtracting by 1 means that the sample standard deviation will be a **larger** number.\n",
    "\n",
    "See the example below to understand why n-1 is a better estimate for a sample variance.\n"
   ]
  },
  {
   "cell_type": "code",
   "execution_count": 1,
   "metadata": {},
   "outputs": [
    {
     "name": "stdout",
     "output_type": "stream",
     "text": [
      "Entire population with STDEV.P = 5.359888058532566\n",
      "Sample population with unbiased STDEV.S = 6.151762467745814\n",
      "Sample population with biased STDEV.S = 6.232510044882885\n"
     ]
    }
   ],
   "source": [
    "import numpy as np\n",
    "import random\n",
    "\n",
    "# Create dataset of 100 random integers between 1 and 20.\n",
    "x = []\n",
    "n = 100\n",
    "numLow = 1\n",
    "numHigh = 20\n",
    "\n",
    "for i in range (0, n):\n",
    "    x.append(random.randint(numLow, numHigh))\n",
    "x.sort()\n",
    "\n",
    "# Calculating the population standard deviation.\n",
    "stdevp = np.sqrt(np.sum((x - np.mean(x))**2)/len(x))\n",
    "print(\"Entire population with STDEV.P = %1.15f\" % stdevp)\n",
    "\n",
    "# Create a sample set of x, using 50% of the data that is in x.\n",
    "y = x[1:10] + x[30:40] + x[60:70] + x[90:100]\n",
    "\n",
    "# Calculating the un-biased sample standard deviation.\n",
    "stdevs_unbiased = np.sqrt(np.sum((y - np.mean(y))**2)/len(y)-1)\n",
    "print(\"Sample population with unbiased STDEV.S = %1.15f\" % stdevs_unbiased)\n",
    "\n",
    "# Calculating the biased sample standard deviation.\n",
    "stdevs_biased = np.sqrt(np.sum((y - np.mean(y))**2)/len(y))\n",
    "print(\"Sample population with biased STDEV.S = %1.15f\" % stdevs_biased)"
   ]
  },
  {
   "cell_type": "markdown",
   "metadata": {},
   "source": [
    "### Results:\n",
    "\n",
    "As we can see from the results, the unbiased formula is generally a decimal or two closer to the population standard deviation than the biased formula."
   ]
  },
  {
   "cell_type": "markdown",
   "metadata": {},
   "source": [
    "### References:\n",
    "* Population VS Sample Data; MathBitsNotebook.com; http://mathbitsnotebook.com/Algebra1/StatisticsData/STPopSample.html\n",
    "* Measures of Spread; MathBitsNotebook.com; http://mathbitsnotebook.com/Algebra1/StatisticsData/STSpread.html\n",
    "* Why we divide by n-1 for unbiased sample variance; Sal Khan; https://www.khanacademy.org/math/ap-statistics/summarizing-quantitative-data-ap/more-standard-deviation/v/review-and-intuition-why-we-divide-by-n-1-for-the-unbiased-sample-variance"
   ]
  },
  {
   "cell_type": "code",
   "execution_count": null,
   "metadata": {},
   "outputs": [],
   "source": []
  }
 ],
 "metadata": {
  "kernelspec": {
   "display_name": "Python 3",
   "language": "python",
   "name": "python3"
  },
  "language_info": {
   "codemirror_mode": {
    "name": "ipython",
    "version": 3
   },
   "file_extension": ".py",
   "mimetype": "text/x-python",
   "name": "python",
   "nbconvert_exporter": "python",
   "pygments_lexer": "ipython3",
   "version": "3.8.3"
  }
 },
 "nbformat": 4,
 "nbformat_minor": 4
}
