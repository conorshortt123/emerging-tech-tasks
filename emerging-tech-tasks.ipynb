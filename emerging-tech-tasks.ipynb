{
 "cells": [
  {
   "cell_type": "markdown",
   "metadata": {},
   "source": [
    "# Task 1 - Calculating the square root of 2\n",
    "\n",
    "***\n",
    "\n",
    "[4]*The square root of 2 or root 2 is represented using the square root symbol √ and written as √2 whose value is 1.414. This value is widely used in mathematics. Root 2 is an irrational number as it cannot be expressed as a fraction and has an infinite number of decimals. So, the exact value of the root of 2 cannot be determined.*\n",
    "\n",
    "## Newton's Method:\n",
    "[2]\n",
    "![Newton's Method](./images/newtons_method.png)\n",
    "\n",
    "Newton's Method of calculating square roots is an iterative root-finding algorithm, that produces successively better approximations of the root. Where ${\\alpha}_{0} $ is an initial approximation of $\\sqrt{N}$. If the initial approximation is suitably chosen, the process converges quickly and accurate approximations to $\\sqrt{N}$ are obtained after only a few iterations. However, if extended multiple-precision approximations to $\\sqrt{N}$ are sought, the computation time increases rapidly because of the times required for dividing ${N}$ by a many-digit number. Generally, the time required for floating-point division on modern electronic computers compared to floating-point multiplication is at least twice as much for double precision computations.\n",
    "\n",
    "![Iterational Accuracy](./images/iterations.png)\n",
    "\n",
    "This is an example of the algorithm each time it runs. Where ${\\alpha}_{0}=1$, ${\\alpha}_{1}=1.5$, and so on for 5 iterations until it is accurate to 100 decimal places (python can only display 52).\n",
    "\n",
    "### References\n",
    "[1] The square root of 2; Ian McLoughlin; https://web.microsoftstream.com/video/214c8379-7c67-45b5-910d-39ec5d269223<br/>\n",
    "[2] The square root of 2 to 1 million decimals; Jacques Dutka; https://www.jstor.org/stable/2004359?seq=1&cid=pdf-reference<br/>\n",
    "[3] Methods of Computing Square Roots; Wikipedia; https://en.wikipedia.org/wiki/Methods_of_computing_square_roots\n",
    "[4] Square Root of 2; Byju's Classes; https://byjus.com/maths/square-root-of-2/"
   ]
  },
  {
   "cell_type": "code",
   "execution_count": 5,
   "metadata": {},
   "outputs": [],
   "source": [
    "def sqrt2(N):\n",
    "    \n",
    "    # Initial estimation of the square root. In this case 2 / 2 = 1. Actual root is 1.414\n",
    "    a = N / 2.0\n",
    "    \n",
    "    # Precision variable, 1e-6 gave a result accurate to 100 decimals.\n",
    "    precision = 0.000001\n",
    "\n",
    "    # If the difference between N and a^2 is greater than 0.000001, continue the loop.\n",
    "    while abs(N - (a*a)) > precision: \n",
    "        a = (a + (N/a)) / 2.0 # Gives a more accurate estimation than the initial estimate each time it is iterated.\n",
    "        \n",
    "    return a\n",
    "\n",
    "ans = sqrt2(2)\n",
    "\n",
    "# Multiply answer by a googol to convert it to an integer, as you can only format floats to 52 decimals in python.\n",
    "ans = ans * (10**100)\n",
    "\n",
    "# Convert to a string and insert decimal place.\n",
    "s = str(int(ans))\n",
    "ans = s[:1] + '.' + s[1:]"
   ]
  },
  {
   "cell_type": "code",
   "execution_count": 6,
   "metadata": {},
   "outputs": [
    {
     "name": "stdout",
     "output_type": "stream",
     "text": [
      "The Square Root of 2 to 100 decimals =\n",
      " 1.4142135623746899583029298868490835765746669908143409641927621954070784222600499434409744805268553728\n"
     ]
    }
   ],
   "source": [
    "print(\"The Square Root of 2 to 100 decimals =\\n %s\" % ans)"
   ]
  },
  {
   "cell_type": "markdown",
   "metadata": {},
   "source": [
    "***\n",
    "\n",
    "## End of Task 1"
   ]
  },
  {
   "cell_type": "markdown",
   "metadata": {},
   "source": [
    "# Task 2 - Pearson's chi-squared test\n",
    "\n",
    "A statistical hypothesis test that is used to determine whether there is a statistically significant difference between the expected frequencies and the observed frequencies in one or more categories of a contingency table. The formula below is used to calculate the difference between the observed and expected in a table of values.\n",
    "\n",
    "$\\chi^2 = \\mathbf{N} \\sum \\limits _{i=1} ^n \\frac{(O _i / \\mathbf{N} - p _i)^2}{p _i}$\n",
    "\n",
    "Where:\n",
    "\n",
    "$\\chi^2$ = Pearson's cumulative test statistic.<br>\n",
    "$O _i$ = the number of observations of type i.<br>\n",
    "$\\mathbf{N}$ = total number of observations.<br>\n",
    "$E_i = N_p{_i}$ = the expected (theoretical) count of type i, asserted by the null hypothesis that the fraction of type i in the population is $p_i$<br>\n",
    "$n$ = the number of cells in the table\n",
    "\n",
    "The chi-squared statistic can then be used to calculate a p-value by comparing the value of the statistic to a chi-squared distribution. The number of degrees of freedom is equal to the number of cells $n$, minus the reduction in degrees of freedom, $p$.\n",
    "\n",
    "Applied to this table of values:\n",
    "\n",
    "![Table](./images/table_of_values.png)\n",
    "\n",
    "We obtain a chi-squared value of **24.5712028585826**<br>\n",
    "And a $p$ value of **0.0004098425861096696**\n",
    "\n",
    "### References:\n",
    "[1] Chi-squared test; Wikipedia;\n",
    "https://en.wikipedia.org/wiki/Chi-squared_test<br>\n",
    "[2] Pearson's Chi-squared test; Wikipedia;\n",
    "https://en.wikipedia.org/wiki/Pearson's_chi-squared_test<br>\n",
    "[3] Chi-Square Procedures for the Analysis of Categorical Frequency Data; Richard Lowry; https://web.archive.org/web/20171022032306/http://vassarstats.net:80/textbook/ch8pt1.html <br>"
   ]
  },
  {
   "cell_type": "code",
   "execution_count": 27,
   "metadata": {},
   "outputs": [
    {
     "name": "stdout",
     "output_type": "stream",
     "text": [
      "Chi-Square value of array = 24.57120285858259833844\n",
      "p-value = 0.00040984258610966958\n"
     ]
    },
    {
     "data": {
      "image/png": "[encoded data removed]",
      "text/plain": [
       "<Figure size 432x288 with 1 Axes>"
      ]
     },
     "metadata": {
      "needs_background": "light"
     },
     "output_type": "display_data"
    }
   ],
   "source": [
    "import numpy as np\n",
    "import matplotlib.pyplot as plt\n",
    "from scipy.stats import chi2_contingency\n",
    "from scipy import stats\n",
    "\n",
    "obs = np.array([[90, 60, 104, 95], [30, 50, 51, 20], [30, 40, 45, 35]])\n",
    "g, p, dof, expctd = chi2_contingency(obs, lambda_=\"pearson\")\n",
    "\n",
    "plt.plot(obs, 'x')\n",
    "\n",
    "# Chi-square and p-value.\n",
    "print(\"Chi-Square value of array = %2.20f\\np-value = %0.20f\" % (g, p))"
   ]
  },
  {
   "cell_type": "markdown",
   "metadata": {},
   "source": [
    "***\n",
    "\n",
    "## End of Task 2"
   ]
  },
  {
   "cell_type": "markdown",
   "metadata": {},
   "source": [
    "# TASK 3 - Research of STDEV.P vs STDEV.S\n",
    "\n",
    "### Brief:\n",
    "*The standard deviation of an array of numbers x is\n",
    "calculated using numpy as **np.sqrt(np.sum((x - np.mean(x))^2)/len(x))** .\n",
    "However, Microsoft Excel has **two different versions** of the standard deviation\n",
    "calculation, **STDEV.P and STDEV.S** . The STDEV.P function performs the above\n",
    "calculation but in the STDEV.S calculation **the division is by len(x)-1** rather\n",
    "than **len(x)**. Research these Excel functions, writing a note in a Markdown cell\n",
    "about the difference between them. Then use numpy to perform a simulation\n",
    "demonstrating that the STDEV.S calculation is a better estimate for the standard\n",
    "deviation of a population when performed on a sample. Note that part of this task\n",
    "is to figure out the terminology in the previous sentence.*\n",
    "\n",
    "## Differences between STDEV.P & STDEV.S\n",
    "\n",
    "### STDEV.P:\n",
    "STDEV.P is an excel function used when calculating the standard deviation of an entire population. A population data set contains all members of a specified group, this is the entire list of possible data values. Uses the count of **n** in formulae.\n",
    "\n",
    "For example, the population may be \"ALL people living in the US.\"\n",
    "\n",
    "### STDEV.S:\n",
    "STDEV.S is an excel function used when calculating a sample of a data set. A sample data set contains a part, or a subset, of a population. The size of a sample is always less than the size of the population from which it is taken. This utilizes the count of **n-1** in formulae\n",
    "\n",
    "Example: The sample may be \"SOME people living in the US.\"\n",
    "\n",
    "### Differences:\n",
    "The only difference between the formulae is that for the sample standard deviation you divide by n-1, n is subtracted by 1 to get an unbiased sample deviation. Subtracting by 1 means that the sample standard deviation will be a **larger** number.\n",
    "\n",
    "See the example below to understand why n-1 is a better estimate for a sample variance.\n"
   ]
  },
  {
   "cell_type": "code",
   "execution_count": 4,
   "metadata": {},
   "outputs": [
    {
     "name": "stdout",
     "output_type": "stream",
     "text": [
      "Entire population with STDEV.P = 5.386752268296732\n",
      "Sample population with unbiased STDEV.S = 6.148983121246800\n",
      "Sample population with biased STDEV.S = 6.229766723191008\n"
     ]
    }
   ],
   "source": [
    "import numpy as np\n",
    "import random\n",
    "\n",
    "# Create dataset of 100 random integers between 1 and 20.\n",
    "x = []\n",
    "n = 100\n",
    "numLow = 1\n",
    "numHigh = 20\n",
    "\n",
    "for i in range (0, n):\n",
    "    x.append(random.randint(numLow, numHigh))\n",
    "x.sort()\n",
    "\n",
    "# Calculating the population standard deviation.\n",
    "stdevp = np.sqrt(np.sum((x - np.mean(x))**2)/len(x))\n",
    "print(\"Entire population with STDEV.P = %1.15f\" % stdevp)\n",
    "\n",
    "# Create a sample set of x, using 50% of the data that is in x.\n",
    "y = x[1:10] + x[30:40] + x[60:70] + x[90:100]\n",
    "\n",
    "# Calculating the un-biased sample standard deviation.\n",
    "stdevs_unbiased = np.sqrt(np.sum((y - np.mean(y))**2)/len(y)-1)\n",
    "print(\"Sample population with unbiased STDEV.S = %1.15f\" % stdevs_unbiased)\n",
    "\n",
    "# Calculating the biased sample standard deviation.\n",
    "stdevs_biased = np.sqrt(np.sum((y - np.mean(y))**2)/len(y))\n",
    "print(\"Sample population with biased STDEV.S = %1.15f\" % stdevs_biased)"
   ]
  },
  {
   "cell_type": "markdown",
   "metadata": {},
   "source": [
    "### Results:\n",
    "\n",
    "As we can see from the results, the unbiased formula is generally a decimal or two closer to the population standard deviation than the biased formula."
   ]
  },
  {
   "cell_type": "markdown",
   "metadata": {},
   "source": [
    "### References:\n",
    "* Population VS Sample Data; MathBitsNotebook.com; http://mathbitsnotebook.com/Algebra1/StatisticsData/STPopSample.html\n",
    "* Measures of Spread; MathBitsNotebook.com; http://mathbitsnotebook.com/Algebra1/StatisticsData/STSpread.html\n",
    "* Why we divide by n-1 for unbiased sample variance; Sal Khan; https://www.khanacademy.org/math/ap-statistics/summarizing-quantitative-data-ap/more-standard-deviation/v/review-and-intuition-why-we-divide-by-n-1-for-the-unbiased-sample-variance"
   ]
  },
  {
   "cell_type": "markdown",
   "metadata": {},
   "source": [
    "***\n",
    "\n",
    "## End of Task 3"
   ]
  },
  {
   "cell_type": "code",
   "execution_count": null,
   "metadata": {},
   "outputs": [],
   "source": []
  }
 ],
 "metadata": {
  "kernelspec": {
   "display_name": "Python 3",
   "language": "python",
   "name": "python3"
  },
  "language_info": {
   "codemirror_mode": {
    "name": "ipython",
    "version": 3
   },
   "file_extension": ".py",
   "mimetype": "text/x-python",
   "name": "python",
   "nbconvert_exporter": "python",
   "pygments_lexer": "ipython3",
   "version": "3.8.3"
  }
 },
 "nbformat": 4,
 "nbformat_minor": 4
}
