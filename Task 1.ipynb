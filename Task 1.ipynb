{
 "cells": [
  {
   "cell_type": "markdown",
   "metadata": {},
   "source": [
    "# Calculating the square root of 2\n",
    "\n",
    "*The square root of 2 or root 2 is represented using the square root symbol √ and written as √2 whose value is 1.414. This value is widely used in mathematics. Root 2 is an irrational number as it cannot be expressed as a fraction and has an infinite number of decimals. So, the exact value of the root of 2 cannot be determined.*\n",
    "\n",
    "## Newton's Method:\n",
    "[2]\n",
    "![Newton's Method](images/newtons_method.png)\n",
    "\n",
    "Newton's Method of calculating square roots is an iterative root-finding algorithm, that produces successively better approximations of the root. Where ${\\alpha}_{0} $ is an initial approximation of $\\sqrt{N}$. If the initial approximation is suitably chosen, the process converges quickly and accurate approximations to $\\sqrt{N}$ are obtained after only a few iterations. However, if extended multiple-precision approximations to $\\sqrt{N}$ are sought, the computation time increases rapidly because of the times required for dividing ${N}$ by a many-digit number. Generally, the time required for floating-point division on modern electronic computers compared to floating-point multiplication is at least twice as much for double precision computations.\n",
    "\n",
    "![Iterational Accuracy](images/iterations.png)\n",
    "\n",
    "This is an example of the algorithm each time it runs. Where ${\\alpha}_{0}=1$, ${\\alpha}_{1}=1.5$, and so on for 5 iterations until it is accurate to 100 decimal places (python can only display 52).\n",
    "\n",
    "### References\n",
    "[1] The square root of 2; Ian McLoughlin; https://web.microsoftstream.com/video/214c8379-7c67-45b5-910d-39ec5d269223<br/>\n",
    "[2] The square root of 2 to 1 million decimals; Jacques Dutka; https://www.jstor.org/stable/2004359?seq=1&cid=pdf-reference<br/>\n",
    "[3] Methods of Computing Square Roots; Wikipedia; https://en.wikipedia.org/wiki/Methods_of_computing_square_roots"
   ]
  },
  {
   "cell_type": "code",
   "execution_count": 221,
   "metadata": {},
   "outputs": [],
   "source": [
    "def sqrt2(N):\n",
    "    \n",
    "    # Initial estimation of the square root. In this case 2 / 2 = 1. Actual root is 1.414\n",
    "    a = N / 2.0\n",
    "\n",
    "    # If the difference between N and a^2 is greater than 0.000001, continue the loop.\n",
    "    # I chose 0.000001 as it gave a root result accurate to 100 decimals.\n",
    "    while abs(N - (a*a)) > 0.000001: \n",
    "        a = (a + (N/a)) / 2.0 # Gives a more accurate estimation than the initial estimate each time it is iterated.\n",
    "        \n",
    "    return a\n",
    "\n",
    "ans = sqrt2(2)\n",
    "# Multiply answer by a googol to convert it to an integer, as you can only format floats to 52 decimals in python.\n",
    "ans = ans * (10**100)\n",
    "\n",
    "# Convert to a string and insert decimal place.\n",
    "s = str(int(ans))\n",
    "ans = s[:1] + '.' + s[1:]"
   ]
  },
  {
   "cell_type": "code",
   "execution_count": 222,
   "metadata": {},
   "outputs": [
    {
     "name": "stdout",
     "output_type": "stream",
     "text": [
      "1.4142135623746899583029298868490835765746669908143409641927621954070784222600499434409744805268553728\n"
     ]
    }
   ],
   "source": [
    "print(ans)"
   ]
  }
 ],
 "metadata": {
  "kernelspec": {
   "display_name": "Python 3",
   "language": "python",
   "name": "python3"
  },
  "language_info": {
   "codemirror_mode": {
    "name": "ipython",
    "version": 3
   },
   "file_extension": ".py",
   "mimetype": "text/x-python",
   "name": "python",
   "nbconvert_exporter": "python",
   "pygments_lexer": "ipython3",
   "version": "3.8.3"
  }
 },
 "nbformat": 4,
 "nbformat_minor": 4
}
