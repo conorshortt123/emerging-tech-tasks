{
 "cells": [
  {
   "cell_type": "markdown",
   "metadata": {},
   "source": [
    "# Pearson's chi-squared test\n",
    "\n",
    "A statistical hypothesis test that is used to determine whether there is a statistically significant difference between the expected frequencies and the observed frequencies in one or more categories of a contingency table. The formula below is used to calculate the difference between the observed and expected in a table of values.\n",
    "\n",
    "$\\chi^2 = \\mathbf{N} \\sum \\limits _{i=1} ^n \\frac{(O _i / \\mathbf{N} - p _i)^2}{p _i}$\n",
    "\n",
    "Where:\n",
    "\n",
    "$\\chi^2$ = Pearson's cumulative test statistic.<br>\n",
    "$O _i$ = the number of observations of type i.<br>\n",
    "$\\mathbf{N}$ = total number of observations.<br>\n",
    "$E_i = N_p{_i}$ = the expected (theoretical) count of type i, asserted by the null hypothesis that the fraction of type i in the population is $p_i$<br>\n",
    "$n$ = the number of cells in the table\n",
    "\n",
    "The chi-squared statistic can then be used to calculate a p-value by comparing the value of the statistic to a chi-squared distribution. The number of degrees of freedom is equal to the number of cells $n$, minus the reduction in degrees of freedom, $p$.\n",
    "\n",
    "Applied to this table of values:\n",
    "\n",
    "![Table](./images/table_of_values.png)\n",
    "\n",
    "We obtain a chi-squared value of **24.5712028585826**<br>\n",
    "And a $p$ value of **0.0004098425861096696**"
   ]
  },
  {
   "cell_type": "code",
   "execution_count": 2,
   "metadata": {},
   "outputs": [],
   "source": [
    "import numpy as np\n",
    "from scipy.stats import chi2_contingency\n",
    "obs = np.array([[90, 60, 104, 95], [30, 50, 51, 20], [30, 40, 45, 35]])"
   ]
  },
  {
   "cell_type": "code",
   "execution_count": 3,
   "metadata": {},
   "outputs": [],
   "source": [
    "g, p, dof, expctd = chi2_contingency(obs, lambda_=\"pearson\")"
   ]
  },
  {
   "cell_type": "code",
   "execution_count": 4,
   "metadata": {},
   "outputs": [
    {
     "name": "stdout",
     "output_type": "stream",
     "text": [
      "24.5712028585826 0.0004098425861096696\n"
     ]
    }
   ],
   "source": [
    "# Chi-square and p-value.\n",
    "print(g, p)"
   ]
  }
 ],
 "metadata": {
  "kernelspec": {
   "display_name": "Python 3",
   "language": "python",
   "name": "python3"
  },
  "language_info": {
   "codemirror_mode": {
    "name": "ipython",
    "version": 3
   },
   "file_extension": ".py",
   "mimetype": "text/x-python",
   "name": "python",
   "nbconvert_exporter": "python",
   "pygments_lexer": "ipython3",
   "version": "3.8.3"
  }
 },
 "nbformat": 4,
 "nbformat_minor": 4
}
